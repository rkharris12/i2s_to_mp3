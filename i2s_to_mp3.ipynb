{
 "cells": [
  {
   "cell_type": "code",
   "execution_count": 1,
   "metadata": {},
   "outputs": [
    {
     "data": {
      "application/javascript": [
       "\n",
       "try {\n",
       "require(['notebook/js/codecell'], function(codecell) {\n",
       "  codecell.CodeCell.options_default.highlight_modes[\n",
       "      'magic_text/x-csrc'] = {'reg':[/^%%microblaze/]};\n",
       "  Jupyter.notebook.events.one('kernel_ready.Kernel', function(){\n",
       "      Jupyter.notebook.get_cells().map(function(cell){\n",
       "          if (cell.cell_type == 'code'){ cell.auto_highlight(); } }) ;\n",
       "  });\n",
       "});\n",
       "} catch (e) {};\n"
      ]
     },
     "metadata": {},
     "output_type": "display_data"
    },
    {
     "data": {
      "application/javascript": [
       "\n",
       "try {\n",
       "require(['notebook/js/codecell'], function(codecell) {\n",
       "  codecell.CodeCell.options_default.highlight_modes[\n",
       "      'magic_text/x-csrc'] = {'reg':[/^%%pybind11/]};\n",
       "  Jupyter.notebook.events.one('kernel_ready.Kernel', function(){\n",
       "      Jupyter.notebook.get_cells().map(function(cell){\n",
       "          if (cell.cell_type == 'code'){ cell.auto_highlight(); } }) ;\n",
       "  });\n",
       "});\n",
       "} catch (e) {};\n"
      ]
     },
     "metadata": {},
     "output_type": "display_data"
    }
   ],
   "source": [
    "from codecs import encode\n",
    "from pynq import Overlay, mmio, allocate\n",
    "import time\n",
    "from scipy.io import wavfile\n",
    "import numpy as np\n",
    "import os"
   ]
  },
  {
   "cell_type": "code",
   "execution_count": 65,
   "metadata": {},
   "outputs": [],
   "source": [
    "overlay = Overlay('/home/xilinx/i2s_to_mp3/i2s_to_mp3.bit') # load the PL"
   ]
  },
  {
   "cell_type": "code",
   "execution_count": 2,
   "metadata": {},
   "outputs": [],
   "source": [
    "# PL register map\n",
    "base_addr = 0x43c00000\n",
    "version_offset = 0\n",
    "capture_start_offset = 4 # write 1 to bit 0 to reset and start a capture, self-clearing\n",
    "capture_addr_offset = 8 # address of array in processor memory\n",
    "capture_size_offset = 12\n",
    "transfer_done_offset = 16\n",
    "srst_i2s_offset = 20\n",
    "i2s_config_offset = 24\n",
    "lrck_cnt_offset = 28\n",
    "bck_cnt_offset = 32\n",
    "\n",
    "reg_space = mmio.MMIO(base_addr, 36)"
   ]
  },
  {
   "cell_type": "code",
   "execution_count": 3,
   "metadata": {},
   "outputs": [
    {
     "data": {
      "text/plain": [
       "19"
      ]
     },
     "execution_count": 3,
     "metadata": {},
     "output_type": "execute_result"
    }
   ],
   "source": [
    "reg_space.read(version_offset) # check version number"
   ]
  },
  {
   "cell_type": "code",
   "execution_count": 4,
   "metadata": {},
   "outputs": [],
   "source": [
    "sr = 44100\n",
    "capture_size = sr*60"
   ]
  },
  {
   "cell_type": "code",
   "execution_count": 5,
   "metadata": {},
   "outputs": [],
   "source": [
    "# allocate 65536 32-bit words of shared mem for captured audio samples\n",
    "audio_buffer = allocate(shape=(capture_size,), dtype='u4')\n",
    "# sync the result buffer memory to PL\n",
    "audio_buffer.flush()\n",
    "# write addresses of shared memory regions to PL registers\n",
    "reg_space.write(capture_addr_offset, audio_buffer.device_address)"
   ]
  },
  {
   "cell_type": "code",
   "execution_count": 6,
   "metadata": {},
   "outputs": [],
   "source": [
    "reg_space.write(capture_addr_offset, audio_buffer.device_address)"
   ]
  },
  {
   "cell_type": "code",
   "execution_count": 7,
   "metadata": {},
   "outputs": [
    {
     "data": {
      "text/plain": [
       "'0x16900000'"
      ]
     },
     "execution_count": 7,
     "metadata": {},
     "output_type": "execute_result"
    }
   ],
   "source": [
    "hex(audio_buffer.device_address)"
   ]
  },
  {
   "cell_type": "code",
   "execution_count": 8,
   "metadata": {},
   "outputs": [
    {
     "data": {
      "text/plain": [
       "3247287"
      ]
     },
     "execution_count": 8,
     "metadata": {},
     "output_type": "execute_result"
    }
   ],
   "source": [
    "# check debug counters\n",
    "reg_space.read(lrck_cnt_offset)"
   ]
  },
  {
   "cell_type": "code",
   "execution_count": 9,
   "metadata": {},
   "outputs": [
    {
     "data": {
      "text/plain": [
       "52926017"
      ]
     },
     "execution_count": 9,
     "metadata": {},
     "output_type": "execute_result"
    }
   ],
   "source": [
    "# check debug counters\n",
    "reg_space.read(bck_cnt_offset)"
   ]
  },
  {
   "cell_type": "code",
   "execution_count": 38,
   "metadata": {},
   "outputs": [],
   "source": [
    "reg_space.write(srst_i2s_offset, 1)"
   ]
  },
  {
   "cell_type": "code",
   "execution_count": 10,
   "metadata": {},
   "outputs": [
    {
     "name": "stdout",
     "output_type": "stream",
     "text": [
      "successfully captured audio data!\n"
     ]
    }
   ],
   "source": [
    "# do a capture\n",
    "reg_space.write(capture_size_offset, capture_size)\n",
    "reg_space.write(capture_start_offset, 1)\n",
    "while True:\n",
    "    done = reg_space.read(transfer_done_offset)\n",
    "    if done == 1:\n",
    "        break\n",
    "    time.sleep(0.1)\n",
    "audio_buffer.invalidate()\n",
    "print(\"successfully captured audio data!\")"
   ]
  },
  {
   "cell_type": "code",
   "execution_count": 11,
   "metadata": {},
   "outputs": [
    {
     "data": {
      "text/plain": [
       "0"
      ]
     },
     "execution_count": 11,
     "metadata": {},
     "output_type": "execute_result"
    }
   ],
   "source": [
    "# create output wav file\n",
    "outdir = \"/home/xilinx/i2s_to_mp3/audio/\"\n",
    "fname_wav = outdir+\"capture.wav\"\n",
    "fname_mp3 = outdir+\"capture.mp3\"\n",
    "fs = 44100\n",
    "\n",
    "samp_left = np.zeros(capture_size, dtype=np.int16)\n",
    "samp_right = np.zeros(capture_size, dtype=np.int16)\n",
    "for i in range(capture_size):\n",
    "    samp_right[i] = np.int16(audio_buffer[i] & 0xFFFF)\n",
    "    samp_left[i] = np.int16((audio_buffer[i] >> 16) & 0xFFFF)\n",
    "\n",
    "signal = np.zeros((2,samp_left.shape[0]),dtype=np.int16)\n",
    "signal[0] = samp_left\n",
    "signal[1] = samp_right\n",
    "signal = np.transpose(signal)\n",
    "    \n",
    "wavfile.write(fname_wav, fs, signal)\n",
    "os.system(\"ffmpeg -i \"+fname_wav+\" -vn -ar 44100 -ac 2 -b:a 192k \"+fname_mp3)"
   ]
  },
  {
   "cell_type": "code",
   "execution_count": null,
   "metadata": {},
   "outputs": [],
   "source": []
  }
 ],
 "metadata": {
  "kernelspec": {
   "display_name": "Python 3",
   "language": "python",
   "name": "python3"
  },
  "language_info": {
   "codemirror_mode": {
    "name": "ipython",
    "version": 3
   },
   "file_extension": ".py",
   "mimetype": "text/x-python",
   "name": "python",
   "nbconvert_exporter": "python",
   "pygments_lexer": "ipython3",
   "version": "3.6.5"
  }
 },
 "nbformat": 4,
 "nbformat_minor": 2
}
